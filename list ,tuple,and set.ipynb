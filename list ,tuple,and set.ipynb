{
 "cells": [
  {
   "cell_type": "code",
   "execution_count": 1,
   "id": "0fb24ac2-a084-4625-81c6-f05719516493",
   "metadata": {},
   "outputs": [],
   "source": [
    "l=[1,2,34,'Sanjana',34.3,[233,45]]"
   ]
  },
  {
   "cell_type": "code",
   "execution_count": 2,
   "id": "c02f0fff-86fa-4465-bb89-8c3de29ccd59",
   "metadata": {},
   "outputs": [
    {
     "data": {
      "text/plain": [
       "[1, 2, 34, 'Sanjana', 34.3, [233, 45]]"
      ]
     },
     "execution_count": 2,
     "metadata": {},
     "output_type": "execute_result"
    }
   ],
   "source": [
    "l"
   ]
  },
  {
   "cell_type": "code",
   "execution_count": 3,
   "id": "4c1b0695-976f-4027-8eec-844135848e95",
   "metadata": {},
   "outputs": [],
   "source": [
    "ll=[23,44,'san']"
   ]
  },
  {
   "cell_type": "code",
   "execution_count": 4,
   "id": "7e8fa96d-2ff2-4b8d-a223-6c7e49bb2b2d",
   "metadata": {},
   "outputs": [
    {
     "data": {
      "text/plain": [
       "[23, 44, 'san']"
      ]
     },
     "execution_count": 4,
     "metadata": {},
     "output_type": "execute_result"
    }
   ],
   "source": [
    "ll"
   ]
  },
  {
   "cell_type": "code",
   "execution_count": 5,
   "id": "72a01329-dd5e-4957-90c3-8922926a2c1b",
   "metadata": {},
   "outputs": [],
   "source": [
    "ll.append(l)"
   ]
  },
  {
   "cell_type": "code",
   "execution_count": 6,
   "id": "8678e18e-3c85-48fa-9987-54fb0f2ce4ec",
   "metadata": {},
   "outputs": [
    {
     "data": {
      "text/plain": [
       "[23, 44, 'san', [1, 2, 34, 'Sanjana', 34.3, [233, 45]]]"
      ]
     },
     "execution_count": 6,
     "metadata": {},
     "output_type": "execute_result"
    }
   ],
   "source": [
    "ll"
   ]
  },
  {
   "cell_type": "code",
   "execution_count": 9,
   "id": "a26e47db-3545-425b-928a-f4902047adb0",
   "metadata": {},
   "outputs": [],
   "source": [
    "ll.remove(23)"
   ]
  },
  {
   "cell_type": "code",
   "execution_count": 10,
   "id": "450ae88a-aaac-4ee0-99b0-9ad82b691493",
   "metadata": {},
   "outputs": [
    {
     "data": {
      "text/plain": [
       "[44, 'san', [1, 2, 34, 'Sanjana', 34.3, [233, 45]]]"
      ]
     },
     "execution_count": 10,
     "metadata": {},
     "output_type": "execute_result"
    }
   ],
   "source": [
    "ll"
   ]
  },
  {
   "cell_type": "code",
   "execution_count": 11,
   "id": "ca9b4744-c0c9-4959-a9e6-adb997e97b40",
   "metadata": {},
   "outputs": [
    {
     "data": {
      "text/plain": [
       "[[1, 2, 34, 'Sanjana', 34.3, [233, 45]], 'san', 44]"
      ]
     },
     "execution_count": 11,
     "metadata": {},
     "output_type": "execute_result"
    }
   ],
   "source": [
    "ll[::-1]"
   ]
  },
  {
   "cell_type": "code",
   "execution_count": 12,
   "id": "fafc6a21-f68e-4111-9745-9826a4ffb663",
   "metadata": {},
   "outputs": [
    {
     "data": {
      "text/plain": [
       "[44, 'san', [1, 2, 34, 'Sanjana', 34.3, [233, 45]]]"
      ]
     },
     "execution_count": 12,
     "metadata": {},
     "output_type": "execute_result"
    }
   ],
   "source": [
    "ll"
   ]
  },
  {
   "cell_type": "code",
   "execution_count": 21,
   "id": "7c6b262b-f661-4905-9073-f5843fe86f74",
   "metadata": {},
   "outputs": [
    {
     "ename": "ValueError",
     "evalue": "list.remove(x): x not in list",
     "output_type": "error",
     "traceback": [
      "\u001b[0;31m---------------------------------------------------------------------------\u001b[0m",
      "\u001b[0;31mValueError\u001b[0m                                Traceback (most recent call last)",
      "Cell \u001b[0;32mIn[21], line 1\u001b[0m\n\u001b[0;32m----> 1\u001b[0m ll\u001b[38;5;241m=\u001b[39m\u001b[43mll\u001b[49m\u001b[43m[\u001b[49m\u001b[38;5;241;43m2\u001b[39;49m\u001b[43m]\u001b[49m\u001b[38;5;241;43m.\u001b[39;49m\u001b[43mremove\u001b[49m\u001b[43m(\u001b[49m\u001b[38;5;241;43m2\u001b[39;49m\u001b[43m)\u001b[49m\n",
      "\u001b[0;31mValueError\u001b[0m: list.remove(x): x not in list"
     ]
    }
   ],
   "source": [
    "ll=ll[2].remove(2)"
   ]
  },
  {
   "cell_type": "code",
   "execution_count": 17,
   "id": "efff503d-ad72-4cba-a80c-437993d109cb",
   "metadata": {},
   "outputs": [
    {
     "data": {
      "text/plain": [
       "[44, 'san', [1, 2, 34, 'Sanjana', 34.3, [233, 45]]]"
      ]
     },
     "execution_count": 17,
     "metadata": {},
     "output_type": "execute_result"
    }
   ],
   "source": [
    "ll"
   ]
  },
  {
   "cell_type": "code",
   "execution_count": 20,
   "id": "953ffaf9-9f4c-432c-9a20-7d32da4ae141",
   "metadata": {},
   "outputs": [
    {
     "data": {
      "text/plain": [
       "[44, 'san', [1, 34, 'Sanjana', 34.3, [233, 45]]]"
      ]
     },
     "execution_count": 20,
     "metadata": {},
     "output_type": "execute_result"
    }
   ],
   "source": [
    "ll"
   ]
  },
  {
   "cell_type": "code",
   "execution_count": 22,
   "id": "ba6b0ff0-50c3-4a6c-814a-30ea7167000c",
   "metadata": {},
   "outputs": [],
   "source": [
    "ll.append(4)"
   ]
  },
  {
   "cell_type": "code",
   "execution_count": 23,
   "id": "736e993c-2501-4ef0-b234-deee77faa814",
   "metadata": {},
   "outputs": [
    {
     "data": {
      "text/plain": [
       "[44, 'san', [1, 34, 'Sanjana', 34.3, [233, 45]], 4]"
      ]
     },
     "execution_count": 23,
     "metadata": {},
     "output_type": "execute_result"
    }
   ],
   "source": [
    "ll"
   ]
  },
  {
   "cell_type": "code",
   "execution_count": 25,
   "id": "4f179536-78d3-4970-a30a-1d34b3c1e581",
   "metadata": {},
   "outputs": [],
   "source": [
    "ll.remove(4)"
   ]
  },
  {
   "cell_type": "code",
   "execution_count": 26,
   "id": "97ec5568-d528-4672-b6b3-6096873829b6",
   "metadata": {},
   "outputs": [
    {
     "data": {
      "text/plain": [
       "[44, 'san', [1, 34, 'Sanjana', 34.3, [233, 45]]]"
      ]
     },
     "execution_count": 26,
     "metadata": {},
     "output_type": "execute_result"
    }
   ],
   "source": [
    "ll"
   ]
  },
  {
   "cell_type": "code",
   "execution_count": 32,
   "id": "057b7325-c7b2-4097-8b8d-ebe749dd57f8",
   "metadata": {},
   "outputs": [],
   "source": [
    "ll=ll[::-1]"
   ]
  },
  {
   "cell_type": "code",
   "execution_count": 28,
   "id": "f31f4a83-5635-47b4-ba3e-8b8584fbd09c",
   "metadata": {},
   "outputs": [],
   "source": [
    "ll.reverse()"
   ]
  },
  {
   "cell_type": "code",
   "execution_count": 29,
   "id": "43e008f3-c62f-4824-8468-4623b603b35c",
   "metadata": {},
   "outputs": [
    {
     "data": {
      "text/plain": [
       "[[1, 34, 'Sanjana', 34.3, [233, 45]], 'san', 44]"
      ]
     },
     "execution_count": 29,
     "metadata": {},
     "output_type": "execute_result"
    }
   ],
   "source": [
    "ll"
   ]
  },
  {
   "cell_type": "code",
   "execution_count": 31,
   "id": "6a5cd348-e025-4108-95ec-8744a35271b1",
   "metadata": {},
   "outputs": [
    {
     "data": {
      "text/plain": [
       "[44, 'san', [1, 34, 'Sanjana', 34.3, [233, 45]]]"
      ]
     },
     "execution_count": 31,
     "metadata": {},
     "output_type": "execute_result"
    }
   ],
   "source": [
    "ll"
   ]
  },
  {
   "cell_type": "code",
   "execution_count": 33,
   "id": "8f2f0f84-0ed0-432a-b896-5c402503c888",
   "metadata": {},
   "outputs": [
    {
     "data": {
      "text/plain": [
       "[[1, 34, 'Sanjana', 34.3, [233, 45]], 'san', 44]"
      ]
     },
     "execution_count": 33,
     "metadata": {},
     "output_type": "execute_result"
    }
   ],
   "source": [
    "ll"
   ]
  },
  {
   "cell_type": "code",
   "execution_count": 34,
   "id": "373b8590-2d20-4cf6-a433-c68ed51e2b93",
   "metadata": {},
   "outputs": [
    {
     "ename": "TypeError",
     "evalue": "'<' not supported between instances of 'str' and 'list'",
     "output_type": "error",
     "traceback": [
      "\u001b[0;31m---------------------------------------------------------------------------\u001b[0m",
      "\u001b[0;31mTypeError\u001b[0m                                 Traceback (most recent call last)",
      "Cell \u001b[0;32mIn[34], line 1\u001b[0m\n\u001b[0;32m----> 1\u001b[0m \u001b[43mll\u001b[49m\u001b[38;5;241;43m.\u001b[39;49m\u001b[43msort\u001b[49m\u001b[43m(\u001b[49m\u001b[43m)\u001b[49m\n",
      "\u001b[0;31mTypeError\u001b[0m: '<' not supported between instances of 'str' and 'list'"
     ]
    }
   ],
   "source": [
    "ll.sort()"
   ]
  },
  {
   "cell_type": "code",
   "execution_count": 35,
   "id": "87ab4a07-c666-4b69-bb66-be1cd79e66d5",
   "metadata": {},
   "outputs": [],
   "source": [
    "l2=[1,2,5,3,6]"
   ]
  },
  {
   "cell_type": "code",
   "execution_count": 36,
   "id": "ec3c5025-4bb7-40e0-9ddc-1a3bcb075c8a",
   "metadata": {},
   "outputs": [],
   "source": [
    "l2.sort()"
   ]
  },
  {
   "cell_type": "code",
   "execution_count": 37,
   "id": "c55be5a2-ee83-4a09-a551-62cd7f9e9e3f",
   "metadata": {},
   "outputs": [
    {
     "data": {
      "text/plain": [
       "[1, 2, 3, 5, 6]"
      ]
     },
     "execution_count": 37,
     "metadata": {},
     "output_type": "execute_result"
    }
   ],
   "source": [
    "l2"
   ]
  },
  {
   "cell_type": "code",
   "execution_count": 38,
   "id": "2886a24c-cbdd-4b80-a08b-c8325eaeb111",
   "metadata": {},
   "outputs": [
    {
     "data": {
      "text/plain": [
       "[1, 2, 3, 5, 6]"
      ]
     },
     "execution_count": 38,
     "metadata": {},
     "output_type": "execute_result"
    }
   ],
   "source": [
    "l2"
   ]
  },
  {
   "cell_type": "code",
   "execution_count": 40,
   "id": "fea87a59-5eb9-44c9-803d-4d506f2268c4",
   "metadata": {},
   "outputs": [],
   "source": [
    "l3=[43,'sanjana',36,75,90]"
   ]
  },
  {
   "cell_type": "code",
   "execution_count": 41,
   "id": "ca6c5fc0-f0a6-4ead-be62-3450b1d3f446",
   "metadata": {},
   "outputs": [
    {
     "ename": "TypeError",
     "evalue": "'<' not supported between instances of 'str' and 'int'",
     "output_type": "error",
     "traceback": [
      "\u001b[0;31m---------------------------------------------------------------------------\u001b[0m",
      "\u001b[0;31mTypeError\u001b[0m                                 Traceback (most recent call last)",
      "Cell \u001b[0;32mIn[41], line 1\u001b[0m\n\u001b[0;32m----> 1\u001b[0m \u001b[43ml3\u001b[49m\u001b[38;5;241;43m.\u001b[39;49m\u001b[43msort\u001b[49m\u001b[43m(\u001b[49m\u001b[43m)\u001b[49m\n",
      "\u001b[0;31mTypeError\u001b[0m: '<' not supported between instances of 'str' and 'int'"
     ]
    }
   ],
   "source": [
    "l3.sort()"
   ]
  },
  {
   "cell_type": "code",
   "execution_count": 42,
   "id": "2c3a23dc-fa5b-4a80-b3c0-765661e7e27f",
   "metadata": {},
   "outputs": [],
   "source": [
    "l4=['sanjana','dag','roam']"
   ]
  },
  {
   "cell_type": "code",
   "execution_count": 43,
   "id": "23a9b305-5e5e-4761-95e6-347fd20b7662",
   "metadata": {},
   "outputs": [],
   "source": [
    "l4.sort()"
   ]
  },
  {
   "cell_type": "code",
   "execution_count": 44,
   "id": "cf307d2e-c581-4c81-b08f-5c24c76ab06f",
   "metadata": {},
   "outputs": [
    {
     "data": {
      "text/plain": [
       "['dag', 'roam', 'sanjana']"
      ]
     },
     "execution_count": 44,
     "metadata": {},
     "output_type": "execute_result"
    }
   ],
   "source": [
    "l4"
   ]
  },
  {
   "cell_type": "code",
   "execution_count": 45,
   "id": "dfe32d47-be86-4166-9693-0c3d5e52443c",
   "metadata": {},
   "outputs": [
    {
     "ename": "NameError",
     "evalue": "name 'reverse' is not defined",
     "output_type": "error",
     "traceback": [
      "\u001b[0;31m---------------------------------------------------------------------------\u001b[0m",
      "\u001b[0;31mNameError\u001b[0m                                 Traceback (most recent call last)",
      "Cell \u001b[0;32mIn[45], line 1\u001b[0m\n\u001b[0;32m----> 1\u001b[0m l4\u001b[38;5;241m.\u001b[39msort(\u001b[43mreverse\u001b[49m\u001b[38;5;241m*\u001b[39m\u001b[38;5;28;01mTrue\u001b[39;00m)\n",
      "\u001b[0;31mNameError\u001b[0m: name 'reverse' is not defined"
     ]
    }
   ],
   "source": [
    "l4.sort(reverse*True)"
   ]
  },
  {
   "cell_type": "code",
   "execution_count": 46,
   "id": "0c26f529-0c11-49af-97a8-6fc2722f2af0",
   "metadata": {},
   "outputs": [
    {
     "data": {
      "text/plain": [
       "2"
      ]
     },
     "execution_count": 46,
     "metadata": {},
     "output_type": "execute_result"
    }
   ],
   "source": [
    "l4.index('sanjana')"
   ]
  },
  {
   "cell_type": "code",
   "execution_count": 47,
   "id": "66509bbd-3300-4276-b2fd-5df111a046aa",
   "metadata": {},
   "outputs": [
    {
     "data": {
      "text/plain": [
       "1"
      ]
     },
     "execution_count": 47,
     "metadata": {},
     "output_type": "execute_result"
    }
   ],
   "source": [
    "l4.count('sanjana')"
   ]
  },
  {
   "cell_type": "code",
   "execution_count": 49,
   "id": "a37aaa26-53be-4a25-b17d-85fef9ee5f94",
   "metadata": {},
   "outputs": [],
   "source": [
    "s='sanjana'"
   ]
  },
  {
   "cell_type": "code",
   "execution_count": 50,
   "id": "8cde5648-1e09-4953-abf6-26559879d55f",
   "metadata": {},
   "outputs": [],
   "source": [
    "l5=[1,2,3,45]"
   ]
  },
  {
   "cell_type": "code",
   "execution_count": 53,
   "id": "b6a889a9-c92e-4482-9409-63d7c32ec9c5",
   "metadata": {},
   "outputs": [
    {
     "ename": "TypeError",
     "evalue": "'str' object does not support item assignment",
     "output_type": "error",
     "traceback": [
      "\u001b[0;31m---------------------------------------------------------------------------\u001b[0m",
      "\u001b[0;31mTypeError\u001b[0m                                 Traceback (most recent call last)",
      "Cell \u001b[0;32mIn[53], line 1\u001b[0m\n\u001b[0;32m----> 1\u001b[0m \u001b[43ms\u001b[49m\u001b[43m[\u001b[49m\u001b[38;5;241;43m0\u001b[39;49m\u001b[43m]\u001b[49m\u001b[38;5;241m=\u001b[39m\u001b[38;5;124m'\u001b[39m\u001b[38;5;124mt\u001b[39m\u001b[38;5;124m'\u001b[39m\n",
      "\u001b[0;31mTypeError\u001b[0m: 'str' object does not support item assignment"
     ]
    }
   ],
   "source": [
    " s[0]='t'                       ##string is unmutable"
   ]
  },
  {
   "cell_type": "code",
   "execution_count": 64,
   "id": "0a2d8bd3-6a7d-46a1-bbff-1a0901fc1650",
   "metadata": {},
   "outputs": [],
   "source": [
    "l5[0]=30             ##list is mutable in nature"
   ]
  },
  {
   "cell_type": "code",
   "execution_count": 56,
   "id": "4721aa57-204c-420e-b580-81b4c210f40c",
   "metadata": {},
   "outputs": [
    {
     "data": {
      "text/plain": [
       "[30, 2, 3, 45]"
      ]
     },
     "execution_count": 56,
     "metadata": {},
     "output_type": "execute_result"
    }
   ],
   "source": [
    "l5"
   ]
  },
  {
   "cell_type": "code",
   "execution_count": 57,
   "id": "d8bbdf3f-6396-4b7d-b22e-c0f6ae5bd70d",
   "metadata": {},
   "outputs": [
    {
     "data": {
      "text/plain": [
       "'sanjana'"
      ]
     },
     "execution_count": 57,
     "metadata": {},
     "output_type": "execute_result"
    }
   ],
   "source": [
    "s"
   ]
  },
  {
   "cell_type": "code",
   "execution_count": 59,
   "id": "9e692445-4b4d-4269-ad36-4630d43ebc22",
   "metadata": {},
   "outputs": [
    {
     "data": {
      "text/plain": [
       "'tanjana'"
      ]
     },
     "execution_count": 59,
     "metadata": {},
     "output_type": "execute_result"
    }
   ],
   "source": [
    "s.replace('s','t')"
   ]
  },
  {
   "cell_type": "code",
   "execution_count": 60,
   "id": "04d7de20-c851-4353-8bdd-c97532246ab9",
   "metadata": {},
   "outputs": [
    {
     "data": {
      "text/plain": [
       "'sanjana'"
      ]
     },
     "execution_count": 60,
     "metadata": {},
     "output_type": "execute_result"
    }
   ],
   "source": [
    "s"
   ]
  },
  {
   "cell_type": "code",
   "execution_count": 63,
   "id": "7f9d7472-4b5f-406a-b2ae-999a9b67e8b2",
   "metadata": {},
   "outputs": [],
   "source": [
    "t=(1,3,4.5,'sanjana',23+3j,3.8)        ##tuples"
   ]
  },
  {
   "cell_type": "code",
   "execution_count": 65,
   "id": "e49de7a3-f642-4515-b040-3ab518917092",
   "metadata": {},
   "outputs": [
    {
     "data": {
      "text/plain": [
       "tuple"
      ]
     },
     "execution_count": 65,
     "metadata": {},
     "output_type": "execute_result"
    }
   ],
   "source": [
    "type(t)"
   ]
  },
  {
   "cell_type": "code",
   "execution_count": 70,
   "id": "56c74e2e-3c25-48d7-8708-95d3bed65adb",
   "metadata": {},
   "outputs": [
    {
     "data": {
      "text/plain": [
       "6"
      ]
     },
     "execution_count": 70,
     "metadata": {},
     "output_type": "execute_result"
    }
   ],
   "source": [
    "len(t)"
   ]
  },
  {
   "cell_type": "code",
   "execution_count": 71,
   "id": "7b5af4f6-40b4-44a4-a5f3-e842f79a56cf",
   "metadata": {},
   "outputs": [
    {
     "data": {
      "text/plain": [
       "1"
      ]
     },
     "execution_count": 71,
     "metadata": {},
     "output_type": "execute_result"
    }
   ],
   "source": [
    "t[0]"
   ]
  },
  {
   "cell_type": "code",
   "execution_count": 72,
   "id": "a38f485d-7e1f-406f-bdd6-f52000c861dc",
   "metadata": {},
   "outputs": [
    {
     "data": {
      "text/plain": [
       "3.8"
      ]
     },
     "execution_count": 72,
     "metadata": {},
     "output_type": "execute_result"
    }
   ],
   "source": [
    "t[-1]"
   ]
  },
  {
   "cell_type": "code",
   "execution_count": 73,
   "id": "8241da8e-188b-4134-8010-ef5e3b6854ae",
   "metadata": {},
   "outputs": [
    {
     "data": {
      "text/plain": [
       "(1, 'sanjana')"
      ]
     },
     "execution_count": 73,
     "metadata": {},
     "output_type": "execute_result"
    }
   ],
   "source": [
    "t[::3]"
   ]
  },
  {
   "cell_type": "code",
   "execution_count": 74,
   "id": "655445a3-2543-4b3b-826c-a17e6e362d6a",
   "metadata": {},
   "outputs": [
    {
     "data": {
      "text/plain": [
       "(3.8, (23+3j), 'sanjana', 4.5, 3, 1)"
      ]
     },
     "execution_count": 74,
     "metadata": {},
     "output_type": "execute_result"
    }
   ],
   "source": [
    "t[::-1]"
   ]
  },
  {
   "cell_type": "code",
   "execution_count": 75,
   "id": "da79f365-f5d7-4981-b96c-4250d562acaf",
   "metadata": {},
   "outputs": [
    {
     "data": {
      "text/plain": [
       "['dag', 'roam', 'sanjana']"
      ]
     },
     "execution_count": 75,
     "metadata": {},
     "output_type": "execute_result"
    }
   ],
   "source": [
    "l4"
   ]
  },
  {
   "cell_type": "code",
   "execution_count": 76,
   "id": "04130209-9802-44e2-886d-23ff39c3a20b",
   "metadata": {},
   "outputs": [],
   "source": [
    "l4[0]=2344"
   ]
  },
  {
   "cell_type": "code",
   "execution_count": 77,
   "id": "725c1557-ed26-4b65-b65d-a0bee5670739",
   "metadata": {},
   "outputs": [
    {
     "data": {
      "text/plain": [
       "[2344, 'roam', 'sanjana']"
      ]
     },
     "execution_count": 77,
     "metadata": {},
     "output_type": "execute_result"
    }
   ],
   "source": [
    "l4"
   ]
  },
  {
   "cell_type": "code",
   "execution_count": 78,
   "id": "7eda11e1-2f5e-4a9f-b9e1-845f128ce150",
   "metadata": {},
   "outputs": [
    {
     "ename": "TypeError",
     "evalue": "'tuple' object does not support item assignment",
     "output_type": "error",
     "traceback": [
      "\u001b[0;31m---------------------------------------------------------------------------\u001b[0m",
      "\u001b[0;31mTypeError\u001b[0m                                 Traceback (most recent call last)",
      "Cell \u001b[0;32mIn[78], line 1\u001b[0m\n\u001b[0;32m----> 1\u001b[0m \u001b[43mt\u001b[49m\u001b[43m[\u001b[49m\u001b[38;5;241;43m2\u001b[39;49m\u001b[43m]\u001b[49m\u001b[38;5;241m=\u001b[39m\u001b[38;5;241m2234\u001b[39m\n",
      "\u001b[0;31mTypeError\u001b[0m: 'tuple' object does not support item assignment"
     ]
    }
   ],
   "source": [
    "t[2]=2234            ##tuple also unmutable in this concept tuple is similar to string , tuple most used of unchangable data like passward"
   ]
  },
  {
   "cell_type": "code",
   "execution_count": 79,
   "id": "16040e8d-86ad-49a5-beee-de10b8f9bfe7",
   "metadata": {},
   "outputs": [
    {
     "data": {
      "text/plain": [
       "(3.8, (23+3j), 'sanjana', 4.5, 3, 1)"
      ]
     },
     "execution_count": 79,
     "metadata": {},
     "output_type": "execute_result"
    }
   ],
   "source": [
    "t[::-1]"
   ]
  },
  {
   "cell_type": "code",
   "execution_count": 80,
   "id": "4cf48e81-2723-41b0-9d82-e3943ed09d19",
   "metadata": {},
   "outputs": [
    {
     "data": {
      "text/plain": [
       "(1, 3, 4.5, 'sanjana', (23+3j), 3.8)"
      ]
     },
     "execution_count": 80,
     "metadata": {},
     "output_type": "execute_result"
    }
   ],
   "source": [
    "t"
   ]
  },
  {
   "cell_type": "code",
   "execution_count": 83,
   "id": "fdd6b4fc-01d4-4444-90c6-20336de664fb",
   "metadata": {},
   "outputs": [
    {
     "data": {
      "text/plain": [
       "0"
      ]
     },
     "execution_count": 83,
     "metadata": {},
     "output_type": "execute_result"
    }
   ],
   "source": [
    "t.count(98)"
   ]
  },
  {
   "cell_type": "code",
   "execution_count": 84,
   "id": "302bb65e-e40f-4603-b3aa-0ddb0d6f4742",
   "metadata": {},
   "outputs": [
    {
     "data": {
      "text/plain": [
       "1"
      ]
     },
     "execution_count": 84,
     "metadata": {},
     "output_type": "execute_result"
    }
   ],
   "source": [
    "t.index(3)"
   ]
  },
  {
   "cell_type": "code",
   "execution_count": 85,
   "id": "b5c8f1f2-099f-4098-992b-cc26203ae1ef",
   "metadata": {},
   "outputs": [
    {
     "data": {
      "text/plain": [
       "(1, 3, 4.5, 'sanjana', (23+3j), 3.8)"
      ]
     },
     "execution_count": 85,
     "metadata": {},
     "output_type": "execute_result"
    }
   ],
   "source": [
    "t             ##for checking how many functions are available press tab"
   ]
  },
  {
   "cell_type": "code",
   "execution_count": 86,
   "id": "715aeab6-d309-4f20-b802-b9dc5a0dc944",
   "metadata": {},
   "outputs": [],
   "source": [
    "s1={}"
   ]
  },
  {
   "cell_type": "code",
   "execution_count": 87,
   "id": "de3fea8e-a550-4a63-94d3-e82bc7b11a37",
   "metadata": {},
   "outputs": [
    {
     "data": {
      "text/plain": [
       "dict"
      ]
     },
     "execution_count": 87,
     "metadata": {},
     "output_type": "execute_result"
    }
   ],
   "source": [
    "type(s1)"
   ]
  },
  {
   "cell_type": "code",
   "execution_count": 88,
   "id": "76c161fd-f644-49f8-b25a-33c2d6dc2084",
   "metadata": {},
   "outputs": [],
   "source": [
    "s2={1,32,34,456,98}"
   ]
  },
  {
   "cell_type": "code",
   "execution_count": 89,
   "id": "665d4ec6-eeb2-40de-888a-d8070a249cb2",
   "metadata": {},
   "outputs": [
    {
     "data": {
      "text/plain": [
       "set"
      ]
     },
     "execution_count": 89,
     "metadata": {},
     "output_type": "execute_result"
    }
   ],
   "source": [
    "type(s2)"
   ]
  },
  {
   "cell_type": "code",
   "execution_count": 92,
   "id": "c634162b-44b3-4e45-9cbc-e5685aa18f1f",
   "metadata": {},
   "outputs": [],
   "source": [
    "s3={5344,746,'sanjana',23+3j,2,3.3,(2,3,3)}       ##in set list is acceptable and list is not acceptable becase it takes only inmutable elements"
   ]
  },
  {
   "cell_type": "code",
   "execution_count": 95,
   "id": "05ad2ee9-9e2c-4d7b-a230-09dcc2c0bf09",
   "metadata": {},
   "outputs": [],
   "source": [
    "s4={2,3,4,5,2,3,2,6,7,4,7,3,6,'san',\"San\"}"
   ]
  },
  {
   "cell_type": "code",
   "execution_count": 94,
   "id": "64f83387-904b-4efa-8583-982357c0561a",
   "metadata": {},
   "outputs": [
    {
     "data": {
      "text/plain": [
       "{2, 3, 4, 5, 6, 7}"
      ]
     },
     "execution_count": 94,
     "metadata": {},
     "output_type": "execute_result"
    }
   ],
   "source": [
    "s4    #set removes all duplicate no.s and give only uqnic no.s"
   ]
  },
  {
   "cell_type": "code",
   "execution_count": 96,
   "id": "81625f7e-b060-434c-8915-9ea652d930ae",
   "metadata": {},
   "outputs": [
    {
     "data": {
      "text/plain": [
       "{2, 3, 4, 5, 6, 7, 'San', 'san'}"
      ]
     },
     "execution_count": 96,
     "metadata": {},
     "output_type": "execute_result"
    }
   ],
   "source": [
    "s4"
   ]
  },
  {
   "cell_type": "code",
   "execution_count": 97,
   "id": "21a5ad46-e792-4610-990e-72425f3c6ae5",
   "metadata": {},
   "outputs": [],
   "source": [
    "l6=[2,23,455,23,54]"
   ]
  },
  {
   "cell_type": "markdown",
   "id": "a21b8cd7-564e-4d72-939e-3b43b4444bea",
   "metadata": {},
   "source": [
    "##### l6=l6=list(set(l6))"
   ]
  },
  {
   "cell_type": "code",
   "execution_count": 99,
   "id": "15c890dd-aa69-4f29-a7f4-0800bb2667bd",
   "metadata": {},
   "outputs": [
    {
     "data": {
      "text/plain": [
       "[2, 455, 54, 23]"
      ]
     },
     "execution_count": 99,
     "metadata": {},
     "output_type": "execute_result"
    }
   ],
   "source": [
    "l6"
   ]
  },
  {
   "cell_type": "code",
   "execution_count": 101,
   "id": "5d6087de-bf60-4c09-b301-c959915ef84d",
   "metadata": {},
   "outputs": [
    {
     "data": {
      "text/plain": [
       "[2, 23, 54, 455]"
      ]
     },
     "execution_count": 101,
     "metadata": {},
     "output_type": "execute_result"
    }
   ],
   "source": [
    "l6"
   ]
  },
  {
   "cell_type": "code",
   "execution_count": 102,
   "id": "ffcbb34e-37fa-4242-9e5e-f0282ef28e9b",
   "metadata": {},
   "outputs": [],
   "source": [
    "s5={34,56,35,'acds',3765,'dac'}"
   ]
  },
  {
   "cell_type": "code",
   "execution_count": 103,
   "id": "65aec1fb-4dff-432d-ba8c-8a237e945b36",
   "metadata": {},
   "outputs": [
    {
     "data": {
      "text/plain": [
       "{34, 35, 3765, 56, 'acds', 'dac'}"
      ]
     },
     "execution_count": 103,
     "metadata": {},
     "output_type": "execute_result"
    }
   ],
   "source": [
    " s5           #set never arranges data in assending order "
   ]
  },
  {
   "cell_type": "code",
   "execution_count": 104,
   "id": "720c8b34-af53-4929-ab19-810255a2603a",
   "metadata": {},
   "outputs": [
    {
     "ename": "TypeError",
     "evalue": "'set' object is not subscriptable",
     "output_type": "error",
     "traceback": [
      "\u001b[0;31m---------------------------------------------------------------------------\u001b[0m",
      "\u001b[0;31mTypeError\u001b[0m                                 Traceback (most recent call last)",
      "Cell \u001b[0;32mIn[104], line 1\u001b[0m\n\u001b[0;32m----> 1\u001b[0m \u001b[43ms5\u001b[49m\u001b[43m[\u001b[49m\u001b[38;5;241;43m0\u001b[39;49m\u001b[43m]\u001b[49m\n",
      "\u001b[0;31mTypeError\u001b[0m: 'set' object is not subscriptable"
     ]
    }
   ],
   "source": [
    "s5[0]"
   ]
  },
  {
   "cell_type": "code",
   "execution_count": 105,
   "id": "7aa026b1-b31f-4f39-9414-ad39285f8f7b",
   "metadata": {},
   "outputs": [
    {
     "ename": "TypeError",
     "evalue": "'set' object is not subscriptable",
     "output_type": "error",
     "traceback": [
      "\u001b[0;31m---------------------------------------------------------------------------\u001b[0m",
      "\u001b[0;31mTypeError\u001b[0m                                 Traceback (most recent call last)",
      "Cell \u001b[0;32mIn[105], line 1\u001b[0m\n\u001b[0;32m----> 1\u001b[0m \u001b[43ms5\u001b[49m\u001b[43m[\u001b[49m\u001b[43m:\u001b[49m\u001b[43m:\u001b[49m\u001b[38;5;241;43m3\u001b[39;49m\u001b[43m]\u001b[49m\n",
      "\u001b[0;31mTypeError\u001b[0m: 'set' object is not subscriptable"
     ]
    }
   ],
   "source": [
    "s5[::3]     #in set indexing and slising is not going to work"
   ]
  },
  {
   "cell_type": "code",
   "execution_count": 106,
   "id": "7e4cc9e6-7788-4baa-8e93-73177e80a0ce",
   "metadata": {},
   "outputs": [],
   "source": [
    "s5.add(4)"
   ]
  },
  {
   "cell_type": "code",
   "execution_count": 107,
   "id": "54cac425-3e39-4758-a8d2-2e5055cfdf3d",
   "metadata": {},
   "outputs": [
    {
     "data": {
      "text/plain": [
       "{34, 35, 3765, 4, 56, 'acds', 'dac'}"
      ]
     },
     "execution_count": 107,
     "metadata": {},
     "output_type": "execute_result"
    }
   ],
   "source": [
    "s5"
   ]
  },
  {
   "cell_type": "code",
   "execution_count": 110,
   "id": "ec415621-687a-4c92-b347-91b03256b4ab",
   "metadata": {},
   "outputs": [
    {
     "ename": "TypeError",
     "evalue": "set.remove() takes exactly one argument (0 given)",
     "output_type": "error",
     "traceback": [
      "\u001b[0;31m---------------------------------------------------------------------------\u001b[0m",
      "\u001b[0;31mTypeError\u001b[0m                                 Traceback (most recent call last)",
      "Cell \u001b[0;32mIn[110], line 1\u001b[0m\n\u001b[0;32m----> 1\u001b[0m \u001b[43ms5\u001b[49m\u001b[38;5;241;43m.\u001b[39;49m\u001b[43mremove\u001b[49m\u001b[43m(\u001b[49m\u001b[43m)\u001b[49m\n",
      "\u001b[0;31mTypeError\u001b[0m: set.remove() takes exactly one argument (0 given)"
     ]
    }
   ],
   "source": [
    "s5.remove()"
   ]
  },
  {
   "cell_type": "code",
   "execution_count": 111,
   "id": "cbd6e548-310f-46d1-84f0-073671f1d757",
   "metadata": {},
   "outputs": [
    {
     "data": {
      "text/plain": [
       "{34, 35, 3765, 4, 56, 'acds', 'dac'}"
      ]
     },
     "execution_count": 111,
     "metadata": {},
     "output_type": "execute_result"
    }
   ],
   "source": [
    "s5"
   ]
  },
  {
   "cell_type": "code",
   "execution_count": 112,
   "id": "452c17ee-423f-4637-9dbe-053576636dad",
   "metadata": {},
   "outputs": [],
   "source": [
    "s5.remove(35)"
   ]
  },
  {
   "cell_type": "code",
   "execution_count": 113,
   "id": "e077b2a0-588f-44de-9980-4c24ed8a338d",
   "metadata": {},
   "outputs": [
    {
     "data": {
      "text/plain": [
       "{34, 3765, 4, 56, 'acds', 'dac'}"
      ]
     },
     "execution_count": 113,
     "metadata": {},
     "output_type": "execute_result"
    }
   ],
   "source": [
    "s5"
   ]
  },
  {
   "cell_type": "code",
   "execution_count": null,
   "id": "b2542f26-67b1-4c62-8271-0f15c44294b2",
   "metadata": {},
   "outputs": [],
   "source": []
  }
 ],
 "metadata": {
  "kernelspec": {
   "display_name": "Python 3 (ipykernel)",
   "language": "python",
   "name": "python3"
  },
  "language_info": {
   "codemirror_mode": {
    "name": "ipython",
    "version": 3
   },
   "file_extension": ".py",
   "mimetype": "text/x-python",
   "name": "python",
   "nbconvert_exporter": "python",
   "pygments_lexer": "ipython3",
   "version": "3.10.8"
  }
 },
 "nbformat": 4,
 "nbformat_minor": 5
}
